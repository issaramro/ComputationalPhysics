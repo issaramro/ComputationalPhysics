{
 "cells": [
  {
   "cell_type": "code",
   "execution_count": 2,
   "metadata": {},
   "outputs": [],
   "source": [
    "import numpy as np\n",
    "import matplotlib.pyplot as plt"
   ]
  },
  {
   "cell_type": "code",
   "execution_count": 85,
   "metadata": {},
   "outputs": [],
   "source": [
    "x = np.linspace(-50,50,10)\n",
    "y = 2*x**3\n",
    "n = len(x)\n",
    "m = x[2] - x[1]"
   ]
  },
  {
   "cell_type": "markdown",
   "metadata": {},
   "source": [
    "# Simple functions to approximate the first and second derivatives"
   ]
  },
  {
   "cell_type": "code",
   "execution_count": 48,
   "metadata": {},
   "outputs": [],
   "source": [
    "def FO1stDer(y1,y2, h):\n",
    "    # to find the 1st order 1st derivative at x1\n",
    "    return (y2-y1)/h \n",
    "\n",
    "def SO1stDer(y0,y2,h):\n",
    "    # to find the 2nd order 1st derivative at x1\n",
    "    return (y2-y0)/(2*h)\n",
    "\n",
    "def ForthO1stDer(y_1,y0,y2,y3,h):\n",
    "     # to find the 4th order 1st derivative at x1\n",
    "    return (y_1 - y3 - 8*y0 + 8*y2)/(12*h)\n",
    "\n",
    "def SO2ndDer(y0,y1,y2,h):\n",
    "    return (y0 - 2*y1 + y2)/(h**2)"
   ]
  },
  {
   "cell_type": "code",
   "execution_count": 49,
   "metadata": {},
   "outputs": [
    {
     "name": "stdout",
     "output_type": "stream",
     "text": [
      "[-50.         -38.88888889 -27.77777778 -16.66666667  -5.55555556\n",
      "   5.55555556  16.66666667  27.77777778  38.88888889  50.        ]\n",
      "[2500.         1512.34567901  771.60493827  277.77777778   30.86419753\n",
      "   30.86419753  277.77777778  771.60493827 1512.34567901 2500.        ]\n",
      "-22.22222222222223\n",
      "-33.33333333333332\n",
      "-33.33333333333333\n",
      "1.9999999999999964\n"
     ]
    }
   ],
   "source": [
    "print(x)\n",
    "print(y)\n",
    "# I want derivative at x[3]\n",
    "h = x[4] - x[3]\n",
    "print(FO1stDer(y[3], y[4], h))\n",
    "print(SO1stDer(y[2], y[4], h))\n",
    "print(ForthO1stDer(y[1],y[2],y[4],y[5],h))\n",
    "print(SO2ndDer(y[2], y[3], y[4], h))\n",
    "\n",
    "# 1st der at x[3] should be 33.33333\n",
    "# 2nd der at x[3] should be 2"
   ]
  },
  {
   "cell_type": "code",
   "execution_count": 86,
   "metadata": {},
   "outputs": [
    {
     "name": "stdout",
     "output_type": "stream",
     "text": [
      "[[ 1. -8.  0.  8.  1.  0.  0.  0.  0.  0.]\n",
      " [ 0.  1. -8.  0.  8.  1.  0.  0.  0.  0.]\n",
      " [ 0.  0.  1. -8.  0.  8.  1.  0.  0.  0.]\n",
      " [ 0.  0.  0.  1. -8.  0.  8.  1.  0.  0.]\n",
      " [ 0.  0.  0.  0.  1. -8.  0.  8.  1.  0.]\n",
      " [ 0.  0.  0.  0.  0.  1. -8.  0.  8.  1.]]\n",
      "[-50.         -38.88888889 -27.77777778 -16.66666667  -5.55555556\n",
      "   5.55555556  16.66666667  27.77777778  38.88888889  50.        ]\n",
      "[4624.48559671 1671.81069959  324.07407407  828.18930041 3431.06995885\n",
      " 8379.62962963]\n"
     ]
    }
   ],
   "source": [
    "def FirstDer4thOrder(n):\n",
    "    O = np.empty((n-4,n))\n",
    "    for i in range (n-4):\n",
    "        for j in range(n):\n",
    "          row = []\n",
    "          for o in range(i):\n",
    "            row.append(0)\n",
    "          row.append(1)\n",
    "          row.append(-8)\n",
    "          row.append(0)\n",
    "          row.append(8)\n",
    "          row.append(1)\n",
    "          for p in range(n - len(row)):\n",
    "            row.append(0)\n",
    "        O[i] = row\n",
    "    return O\n",
    "\n",
    "O = FirstDer4thOrder(n)\n",
    "der1_matrix = 1/(12*m) * (O @ np.transpose(y))"
   ]
  },
  {
   "cell_type": "markdown",
   "metadata": {},
   "source": [
    "# Constructing the Laplacian matrix to approximate the second derivative"
   ]
  },
  {
   "cell_type": "code",
   "execution_count": 81,
   "metadata": {},
   "outputs": [],
   "source": [
    "# Getting the derivative at the inner points only \n",
    "\n",
    "def LaplacianMatrix(n):\n",
    "    D = np.empty((n-2,n))\n",
    "    for i in range (n-2):\n",
    "        for j in range(n):\n",
    "          row = []\n",
    "          for o in range(i):\n",
    "            row.append(0)\n",
    "          row.append(1)\n",
    "          row.append(-2)\n",
    "          row.append(1)\n",
    "          for p in range(n - len(row)):\n",
    "            row.append(0)\n",
    "        D[i] = row\n",
    "    return D\n",
    "\n",
    "D = LaplacianMatrix(n)\n",
    "der2_matrix = 1/(m**2)* (D @ np.transpose(y))\n"
   ]
  }
 ],
 "metadata": {
  "kernelspec": {
   "display_name": "Python 3",
   "language": "python",
   "name": "python3"
  },
  "language_info": {
   "codemirror_mode": {
    "name": "ipython",
    "version": 3
   },
   "file_extension": ".py",
   "mimetype": "text/x-python",
   "name": "python",
   "nbconvert_exporter": "python",
   "pygments_lexer": "ipython3",
   "version": "3.11.3"
  },
  "orig_nbformat": 4
 },
 "nbformat": 4,
 "nbformat_minor": 2
}
