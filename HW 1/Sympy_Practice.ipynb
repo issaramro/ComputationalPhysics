{
 "cells": [
  {
   "cell_type": "code",
   "execution_count": 1,
   "metadata": {},
   "outputs": [],
   "source": [
    "import numpy as np\n",
    "import matplotlib.pyplot as plt\n",
    "import sympy as sp"
   ]
  },
  {
   "cell_type": "code",
   "execution_count": 19,
   "metadata": {},
   "outputs": [
    {
     "name": "stdout",
     "output_type": "stream",
     "text": [
      "-exp(x)*sin(exp(x))\n",
      "-exp(5)*sin(exp(5))\n",
      "102.062454897293\n",
      "Ci(exp(5))\n",
      "-0.00460025625971071\n"
     ]
    }
   ],
   "source": [
    "x = sp.symbols(\"x\")\n",
    "def f(x):\n",
    "    return sp.cos(sp.exp(x))\n",
    "df = sp.diff(f(x),x)\n",
    "print(df)\n",
    "a = df.subs(x, 5)\n",
    "print(a)\n",
    "print(a.evalf())\n",
    "inf = sp.integrate(f(x), x)\n",
    "b = inf.subs(x,5)\n",
    "print(b)\n",
    "print(b.evalf())"
   ]
  }
 ],
 "metadata": {
  "kernelspec": {
   "display_name": "Python 3",
   "language": "python",
   "name": "python3"
  },
  "language_info": {
   "codemirror_mode": {
    "name": "ipython",
    "version": 3
   },
   "file_extension": ".py",
   "mimetype": "text/x-python",
   "name": "python",
   "nbconvert_exporter": "python",
   "pygments_lexer": "ipython3",
   "version": "3.11.3"
  }
 },
 "nbformat": 4,
 "nbformat_minor": 2
}
