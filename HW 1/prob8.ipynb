{
 "cells": [
  {
   "cell_type": "code",
   "execution_count": 2,
   "metadata": {},
   "outputs": [],
   "source": [
    "import numpy as np\n",
    "import matplotlib.pyplot as plt"
   ]
  },
  {
   "cell_type": "code",
   "execution_count": 35,
   "metadata": {},
   "outputs": [
    {
     "ename": "MemoryError",
     "evalue": "Unable to allocate 11.9 GiB for an array with shape (40000, 40000) and data type float64",
     "output_type": "error",
     "traceback": [
      "\u001b[1;31m---------------------------------------------------------------------------\u001b[0m",
      "\u001b[1;31mMemoryError\u001b[0m                               Traceback (most recent call last)",
      "\u001b[1;32mc:\\Users\\USAID\\Documents\\2023-2024\\phys 222\\Phys222_ClassExs_Issar\\HW 1\\prob8.ipynb Cell 2\u001b[0m line \u001b[0;36m2\n\u001b[0;32m     <a href='vscode-notebook-cell:/c%3A/Users/USAID/Documents/2023-2024/phys%20222/Phys222_ClassExs_Issar/HW%201/prob8.ipynb#W1sZmlsZQ%3D%3D?line=19'>20</a>\u001b[0m     u\u001b[39m.\u001b[39mappend(\u001b[39m-\u001b[39mnp\u001b[39m.\u001b[39mgradient(psi(y, f(x,a(t[i], w, eps),b(t[i], w, eps)), A), y))\n\u001b[0;32m     <a href='vscode-notebook-cell:/c%3A/Users/USAID/Documents/2023-2024/phys%20222/Phys222_ClassExs_Issar/HW%201/prob8.ipynb#W1sZmlsZQ%3D%3D?line=20'>21</a>\u001b[0m     v\u001b[39m.\u001b[39mappend(np\u001b[39m.\u001b[39mgradient(psi(y, f(x,a(t[i], w, eps),b(t[i], w, eps)), A), x))\n\u001b[1;32m---> <a href='vscode-notebook-cell:/c%3A/Users/USAID/Documents/2023-2024/phys%20222/Phys222_ClassExs_Issar/HW%201/prob8.ipynb#W1sZmlsZQ%3D%3D?line=22'>23</a>\u001b[0m U,V \u001b[39m=\u001b[39m np\u001b[39m.\u001b[39;49mmeshgrid(u,v)\n\u001b[0;32m     <a href='vscode-notebook-cell:/c%3A/Users/USAID/Documents/2023-2024/phys%20222/Phys222_ClassExs_Issar/HW%201/prob8.ipynb#W1sZmlsZQ%3D%3D?line=23'>24</a>\u001b[0m U_1d \u001b[39m=\u001b[39m U\u001b[39m.\u001b[39mreshape(\u001b[39m-\u001b[39m\u001b[39m1\u001b[39m)\n\u001b[0;32m     <a href='vscode-notebook-cell:/c%3A/Users/USAID/Documents/2023-2024/phys%20222/Phys222_ClassExs_Issar/HW%201/prob8.ipynb#W1sZmlsZQ%3D%3D?line=24'>25</a>\u001b[0m V_1d \u001b[39m=\u001b[39m V\u001b[39m.\u001b[39mreshape(\u001b[39m-\u001b[39m\u001b[39m1\u001b[39m)\n",
      "File \u001b[1;32mc:\\Users\\USAID\\AppData\\Local\\Programs\\Python\\Python311\\Lib\\site-packages\\numpy\\lib\\function_base.py:5163\u001b[0m, in \u001b[0;36mmeshgrid\u001b[1;34m(copy, sparse, indexing, *xi)\u001b[0m\n\u001b[0;32m   5160\u001b[0m     output \u001b[39m=\u001b[39m np\u001b[39m.\u001b[39mbroadcast_arrays(\u001b[39m*\u001b[39moutput, subok\u001b[39m=\u001b[39m\u001b[39mTrue\u001b[39;00m)\n\u001b[0;32m   5162\u001b[0m \u001b[39mif\u001b[39;00m copy:\n\u001b[1;32m-> 5163\u001b[0m     output \u001b[39m=\u001b[39m [x\u001b[39m.\u001b[39;49mcopy() \u001b[39mfor\u001b[39;49;00m x \u001b[39min\u001b[39;49;00m output]\n\u001b[0;32m   5165\u001b[0m \u001b[39mreturn\u001b[39;00m output\n",
      "File \u001b[1;32mc:\\Users\\USAID\\AppData\\Local\\Programs\\Python\\Python311\\Lib\\site-packages\\numpy\\lib\\function_base.py:5163\u001b[0m, in \u001b[0;36m<listcomp>\u001b[1;34m(.0)\u001b[0m\n\u001b[0;32m   5160\u001b[0m     output \u001b[39m=\u001b[39m np\u001b[39m.\u001b[39mbroadcast_arrays(\u001b[39m*\u001b[39moutput, subok\u001b[39m=\u001b[39m\u001b[39mTrue\u001b[39;00m)\n\u001b[0;32m   5162\u001b[0m \u001b[39mif\u001b[39;00m copy:\n\u001b[1;32m-> 5163\u001b[0m     output \u001b[39m=\u001b[39m [x\u001b[39m.\u001b[39mcopy() \u001b[39mfor\u001b[39;00m x \u001b[39min\u001b[39;00m output]\n\u001b[0;32m   5165\u001b[0m \u001b[39mreturn\u001b[39;00m output\n",
      "\u001b[1;31mMemoryError\u001b[0m: Unable to allocate 11.9 GiB for an array with shape (40000, 40000) and data type float64"
     ]
    }
   ],
   "source": [
    "\n",
    "x = np.linspace(0,2,200)\n",
    "y = np.linspace(0,1,200)\n",
    "t = np.arange(0, 200,1)\n",
    "A = 0.25\n",
    "eps = 0.1\n",
    "w = (2*np.pi)/10\n",
    "\n",
    "def a(t, w, eps):\n",
    "    return eps*np.sin(w*t)\n",
    "def b(t, w, eps):\n",
    "    return 1 - 2*eps*np.sin(w*t)\n",
    "def f(x,a,b):\n",
    "    return a*x*x + b*x\n",
    "def psi(y, f, A):\n",
    "    return A*np.sin(np.pi*f)*np.sin(np.pi*y)\n",
    "u = []\n",
    "v = []\n",
    "D = np.zeros((80000, 200))\n",
    "for i in range(200):\n",
    "    u.append(-np.gradient(psi(y, f(x,a(t[i], w, eps),b(t[i], w, eps)), A), y))\n",
    "    v.append(np.gradient(psi(y, f(x,a(t[i], w, eps),b(t[i], w, eps)), A), x))\n",
    "\n",
    "U,V = np.meshgrid(u,v)\n",
    "U_1d = U.reshape(-1)\n",
    "V_1d = V.reshape(-1)\n",
    "D[:, i] = np.concatenate((U_1d, V_1d))\n",
    "U_, S, V_ = np.linalg.svd(D)\n",
    "\n",
    "plt.scatter(np.arange(len(S)), S)\n",
    "plt.show()\n",
    "\n"
   ]
  }
 ],
 "metadata": {
  "kernelspec": {
   "display_name": "Python 3",
   "language": "python",
   "name": "python3"
  },
  "language_info": {
   "codemirror_mode": {
    "name": "ipython",
    "version": 3
   },
   "file_extension": ".py",
   "mimetype": "text/x-python",
   "name": "python",
   "nbconvert_exporter": "python",
   "pygments_lexer": "ipython3",
   "version": "3.11.3"
  }
 },
 "nbformat": 4,
 "nbformat_minor": 2
}
