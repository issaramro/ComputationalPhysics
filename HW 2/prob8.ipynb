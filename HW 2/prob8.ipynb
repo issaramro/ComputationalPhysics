{
 "cells": [
  {
   "cell_type": "code",
   "execution_count": 2,
   "metadata": {},
   "outputs": [],
   "source": [
    "import numpy as np\n",
    "import matplotlib.pyplot as plt"
   ]
  },
  {
   "cell_type": "code",
   "execution_count": 4,
   "metadata": {},
   "outputs": [],
   "source": [
    "\n",
    "x = np.linspace(0,2,200)\n",
    "y = np.linspace(0,1,200)\n",
    "t = np.arange(0, 200,1)\n",
    "A = 0.25\n",
    "eps = 0.1\n",
    "w = (2*np.pi)/10\n",
    "\n",
    "def a(t, w, eps):\n",
    "    return eps*np.sin(w*t)\n",
    "def b(t, w, eps):\n",
    "    return 1 - 2*eps*np.sin(w*t)\n",
    "def f(x,a,b):\n",
    "    return a*x**2 + b*x\n",
    "def psi(y, f, A):\n",
    "    return A*np.sin(np.pi*f)*np.sin(np.pi*y)\n",
    "\n",
    "D = np.zeros((80000, 200))\n",
    "u = []\n",
    "v = []\n",
    "\n",
    "u.append(-np.gradient(psi(y, f(x, a(t, w, eps), b(t, w, eps)), A), y))\n",
    "v.append(np.gradient(psi(y, f(x, a(t, w, eps), b(t, w, eps)), A), x))\n",
    "\n",
    "U, V = np.meshgrid(u,v)\n",
    "\n",
    "for i in range(len(t)):\n",
    "    u.append(-np.gradient(psi(y, f(x, a(t[i], w, eps), b(t[i], w, eps)), A), y))\n",
    "    v.append(np.gradient(psi(y, f(x, a(t[i], w, eps), b(t[i], w, eps)), A), x))\n",
    "U, V = np.meshgrid(u,v)\n",
    "for i in len(t):\n",
    "    D[:, i] = np.concatenate(U.flatten(), V.flatten())\n",
    "\n",
    "A, S, B = np.linalg.svd(D)"
   ]
  }
 ],
 "metadata": {
  "kernelspec": {
   "display_name": "Python 3",
   "language": "python",
   "name": "python3"
  },
  "language_info": {
   "codemirror_mode": {
    "name": "ipython",
    "version": 3
   },
   "file_extension": ".py",
   "mimetype": "text/x-python",
   "name": "python",
   "nbconvert_exporter": "python",
   "pygments_lexer": "ipython3",
   "version": "3.11.3"
  }
 },
 "nbformat": 4,
 "nbformat_minor": 2
}
