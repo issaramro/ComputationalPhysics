{
 "cells": [
  {
   "cell_type": "code",
   "execution_count": 3,
   "metadata": {},
   "outputs": [],
   "source": [
    "import numpy as np\n",
    "import matplotlib.pyplot as plt\n",
    "import cv2\n",
    "import ffmpeg"
   ]
  },
  {
   "cell_type": "markdown",
   "metadata": {},
   "source": [
    "## First load the video and convert it to numpy array"
   ]
  },
  {
   "cell_type": "code",
   "execution_count": 11,
   "metadata": {},
   "outputs": [],
   "source": [
    "Video = cv2.VideoCapture('Video.mp4')\n",
    "Frames = int(Video.get(cv2.CAP_PROP_FRAME_COUNT))\n",
    "Length = int(Video.get(cv2.CAP_PROP_FRAME_HEIGHT))\n",
    "Width  = int(Video.get(cv2.CAP_PROP_FRAME_WIDTH))\n",
    "Frame_rate = int(Video.get(cv2.CAP_PROP_FPS))\n",
    "Data = np.zeros((Frames, Length, Width), dtype=np.uint8)\n",
    "for i in range(Frames):\n",
    "    ret, frame = Video.read()\n",
    "    if ret == True:\n",
    "        Image = cv2.cvtColor(frame, cv2.COLOR_BGR2GRAY)\n",
    "        Data[i] = Image\n",
    "    else:\n",
    "        break\n",
    "\n",
    "# n = width x length (size of the frame) and m = frame rate (temporal component)\n",
    "# frame x length x width 3 dimentional matrix\n",
    "# A = big matrix where we squish the data "
   ]
  },
  {
   "cell_type": "markdown",
   "metadata": {},
   "source": [
    "## Create the Big Matrix "
   ]
  },
  {
   "cell_type": "code",
   "execution_count": 15,
   "metadata": {},
   "outputs": [
    {
     "name": "stdout",
     "output_type": "stream",
     "text": [
      "[]\n"
     ]
    }
   ],
   "source": [
    "A = np.zeros((Length * Width, Frames), dtype = np.uint8)\n",
    "for i in range(Frames):\n",
    "    A[:,i] = Data[i].reshape(Length*Width)\n",
    "    # each column is a frame\n",
    "    \n",
    "print(A)\n"
   ]
  },
  {
   "cell_type": "markdown",
   "metadata": {},
   "source": [
    "## Perform SVD"
   ]
  },
  {
   "cell_type": "code",
   "execution_count": null,
   "metadata": {},
   "outputs": [],
   "source": [
    "U, S, V = np.linalg.svd(A)"
   ]
  },
  {
   "cell_type": "markdown",
   "metadata": {},
   "source": [
    "## Look at the singular values"
   ]
  },
  {
   "cell_type": "code",
   "execution_count": null,
   "metadata": {},
   "outputs": [],
   "source": []
  },
  {
   "cell_type": "markdown",
   "metadata": {},
   "source": [
    "## Recreate the Video with 1, 5, 10 sigmas "
   ]
  },
  {
   "cell_type": "code",
   "execution_count": null,
   "metadata": {},
   "outputs": [],
   "source": []
  },
  {
   "cell_type": "markdown",
   "metadata": {},
   "source": [
    "## Convert back to video"
   ]
  },
  {
   "cell_type": "code",
   "execution_count": null,
   "metadata": {},
   "outputs": [],
   "source": [
    "(ffmpeg\n",
    ".input('Temp/Image_%d.jpg', framerate=Frame_rate)\n",
    ".output(f'Videos/{k}-sigular_values.mp4',loglevel='quiet')\n",
    ".run(overwrite_output=True))"
   ]
  }
 ],
 "metadata": {
  "kernelspec": {
   "display_name": "Python 3",
   "language": "python",
   "name": "python3"
  },
  "language_info": {
   "codemirror_mode": {
    "name": "ipython",
    "version": 3
   },
   "file_extension": ".py",
   "mimetype": "text/x-python",
   "name": "python",
   "nbconvert_exporter": "python",
   "pygments_lexer": "ipython3",
   "version": "3.11.3"
  }
 },
 "nbformat": 4,
 "nbformat_minor": 2
}
