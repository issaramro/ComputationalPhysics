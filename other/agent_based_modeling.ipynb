{
 "cells": [
  {
   "cell_type": "code",
   "execution_count": null,
   "metadata": {},
   "outputs": [],
   "source": [
    "# treat each part of the problem as an agent, where each agent does something.\n",
    "# modeling gas as a collection of paticles\n",
    "# let agents evolve on their own\n",
    "# given initial conditions\n",
    "# avoiding overlaping, (like birds in group), we can model them as repulsive forces yet they are connected (always together)\n",
    "# like a spring\n",
    "# ABM: I know how each agent is evolving yet I dont know how the whole system is evolving\n",
    "\n"
   ]
  }
 ],
 "metadata": {
  "language_info": {
   "name": "python"
  }
 },
 "nbformat": 4,
 "nbformat_minor": 2
}
